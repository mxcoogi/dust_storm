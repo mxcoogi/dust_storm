


years = []
months = []
areas = []
with open("moncov.eurasia.txt", "r") as f:
    for line in f:
        year, month, area = map(int, line.rstrip().split())
        years.append(year)
        months.append(month)
        areas.append(area)


import pandas as pd


seoul = pd.read_csv('seoul.csv', encoding='euc-kr')
seoul.info()


seoul



