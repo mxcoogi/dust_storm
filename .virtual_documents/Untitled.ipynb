


import pandas as pd
import seaborn as sns
import matplotlib.pyplot as plt


years = []
months = []
areas = []
with open("moncov.eurasia.txt", "r") as f: # 출처 https://climate.rutgers.edu/snowcover/
    for line in f:
        year, month, area = map(int, line.rstrip().split())
        years.append(year)
        months.append(month)
        areas.append(area)


data = {
    'years' : years,
    'months' : months, 
    'areas' : areas
}
df = pd.DataFrame(data = data)
seasons = {
    12: 'Winter', 1: 'Winter', 2: 'Winter',
    3: 'Spring', 4: 'Spring', 5: 'Spring',
    6: 'Summer', 7: 'Summer', 8: 'Summer',
    9: 'Fall', 10: 'Fall', 11: 'Fall'
}

df['seasons'] = df['months'].map(seasons)
df.drop(df[(df["years"] < 1970) | (df['years'] > 2023)].index , axis = 0, inplace = True)


df


winter_df = df[df['seasons'] == 'Spring'].groupby('years')['areas'].mean().reset_index()


plt.figure(figsize=(12, 6))
plt.plot(winter_df['areas'], marker='o', linestyle='-', color='b', label='Average Areas')
plt.xlabel('years_winter')
plt.ylabel('Average Areas')
plt.title('Average Areas by Year')
plt.grid(True)
plt.legend()
plt.xticks(range(len(winter_df)), [f"{row['years']}" for _, row in winter_df.iterrows()], rotation=45)
plt.tight_layout()
plt.show()


average_areas = df.groupby(['years'])['areas'].mean().reset_index()


average_areas[:10]


plt.figure(figsize=(12, 6))
plt.plot(average_areas['areas'], marker='o', linestyle='-', color='b', label='Average Areas')
plt.xlabel('Years')
plt.ylabel('Average Areas')
plt.title('Average Areas by Year')
plt.grid(True)
plt.legend()
plt.xticks(range(len(average_areas)), [f"{row['years']}" for _, row in average_areas.iterrows()], rotation=45)
plt.tight_layout()
plt.show()


seoul = pd.read_csv('seoul.csv', encoding='euc-kr') #출처 https://data.kma.go.kr/cmmn/main.do
seoul.info()


seoul = seoul.drop([str(i) for i in range(1, 13)], axis = 1)


seoul[:10]


plt.figure(figsize=(12, 6))
plt.plot(seoul['total'], marker='o', linestyle='-', color='b', label='Average Areas')
plt.xlabel('year')
plt.xticks(range(len(seoul)), [f"{row['year']}" for _, row in seoul.iterrows()], rotation=45)
plt.grid(True)
plt.legend()
plt.tight_layout()
plt.show()


average_areas['total'] = seoul['total']


df = average_areas.copy()


cor = average_areas.copy()
cor[:10]


plt.figure(figsize=(10, 6))

# 첫 번째 y축: years vs areas
fig, ax1 = plt.subplots()

ax1.set_xlabel('Years')
ax1.set_ylabel('Areas', color='b')
ax1.plot(df['years'], df['areas'], marker='o', color='b', label='Areas')
ax1.tick_params(axis='y', labelcolor='b')

ax2 = ax1.twinx()
ax2.set_ylabel('Total', color='r') 
ax2.plot(df['years'], df['total'], marker='o', color='r', label='Total')
ax2.tick_params(axis='y', labelcolor='r')

# 레전드 설정
fig.tight_layout()  # otherwise the right y-label is slightly clipped
fig.legend(loc="upper left", bbox_to_anchor=(0,1), bbox_transform=ax1.transAxes)

# 그래프 표시
plt.show()


#상관계수 구하기
corr = round(cor.corr(), 2)
corr






