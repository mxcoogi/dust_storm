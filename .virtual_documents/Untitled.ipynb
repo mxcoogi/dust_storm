


import pandas as pd
import seaborn as sns
import matplotlib.pyplot as plt


years = []
months = []
areas = []
with open("moncov.eurasia.txt", "r") as f:
    for line in f:
        year, month, area = map(int, line.rstrip().split())
        years.append(year)
        months.append(month)
        areas.append(area)


data = {
    'years' : years,
    'months' : months, 
    'areas' : areas
}
df = pd.DataFrame(data = data)
seasons = {
    12: 'Winter', 1: 'Winter', 2: 'Winter',
    3: 'Spring', 4: 'Spring', 5: 'Spring',
    6: 'Summer', 7: 'Summer', 8: 'Summer',
    9: 'Fall', 10: 'Fall', 11: 'Fall'
}

df['seasons'] = df['months'].map(seasons)


df[-12:]


summer_2024 = df[(df['years'] == 2024) & (df['seasons'] == 'Summer')]


summer_2024


seoul = pd.read_csv('seoul.csv', encoding='euc-kr')
seoul.info()


seoul



